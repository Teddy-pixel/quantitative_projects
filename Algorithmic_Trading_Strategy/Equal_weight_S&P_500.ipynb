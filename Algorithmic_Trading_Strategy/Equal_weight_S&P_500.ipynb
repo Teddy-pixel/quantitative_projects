{
  "cells": [
    {
      "cell_type": "markdown",
      "metadata": {
        "id": "nOe1VhN5I_MR"
      },
      "source": [
        "# Equal-Weight S&P 500 Index Fund\n",
        "\n",
        "\n",
        "\n",
        "The goal of is to create a Python script that will accept the value of a portfolio and tell you how many shares of each S&P 500 constituent you should purchase to get an equal-weight version of the index fund.\n"
      ]
    },
    {
      "cell_type": "code",
      "execution_count": null,
      "metadata": {
        "id": "kNsBAH_8I_MT"
      },
      "outputs": [],
      "source": [
        "import numpy as np\n",
        "import pandas as pd\n",
        "import requests\n",
        "import xlsxwriter\n",
        "import math"
      ]
    },
    {
      "cell_type": "code",
      "execution_count": null,
      "metadata": {
        "id": "K2f_bgwBI_MU",
        "outputId": "f6b68877-e145-46a4-e630-2f985eede05a"
      },
      "outputs": [
        {
          "output_type": "execute_result",
          "data": {
            "text/plain": [
              "    Ticker\n",
              "0        A\n",
              "1      AAL\n",
              "2      AAP\n",
              "3     AAPL\n",
              "4     ABBV\n",
              "..     ...\n",
              "500    YUM\n",
              "501    ZBH\n",
              "502   ZBRA\n",
              "503   ZION\n",
              "504    ZTS\n",
              "\n",
              "[505 rows x 1 columns]"
            ],
            "text/html": "<div>\n<style scoped>\n    .dataframe tbody tr th:only-of-type {\n        vertical-align: middle;\n    }\n\n    .dataframe tbody tr th {\n        vertical-align: top;\n    }\n\n    .dataframe thead th {\n        text-align: right;\n    }\n</style>\n<table border=\"1\" class=\"dataframe\">\n  <thead>\n    <tr style=\"text-align: right;\">\n      <th></th>\n      <th>Ticker</th>\n    </tr>\n  </thead>\n  <tbody>\n    <tr>\n      <th>0</th>\n      <td>A</td>\n    </tr>\n    <tr>\n      <th>1</th>\n      <td>AAL</td>\n    </tr>\n    <tr>\n      <th>2</th>\n      <td>AAP</td>\n    </tr>\n    <tr>\n      <th>3</th>\n      <td>AAPL</td>\n    </tr>\n    <tr>\n      <th>4</th>\n      <td>ABBV</td>\n    </tr>\n    <tr>\n      <th>...</th>\n      <td>...</td>\n    </tr>\n    <tr>\n      <th>500</th>\n      <td>YUM</td>\n    </tr>\n    <tr>\n      <th>501</th>\n      <td>ZBH</td>\n    </tr>\n    <tr>\n      <th>502</th>\n      <td>ZBRA</td>\n    </tr>\n    <tr>\n      <th>503</th>\n      <td>ZION</td>\n    </tr>\n    <tr>\n      <th>504</th>\n      <td>ZTS</td>\n    </tr>\n  </tbody>\n</table>\n<p>505 rows × 1 columns</p>\n</div>"
          },
          "metadata": {},
          "execution_count": 2
        }
      ],
      "source": [
        "stocks = pd.read_csv('../sp_500_stocks.csv')\n",
        "stocks"
      ]
    },
    {
      "cell_type": "code",
      "execution_count": null,
      "metadata": {
        "id": "3pVihcNsI_MU"
      },
      "outputs": [],
      "source": [
        "from secrets import IEX_CLOUD_API_TOKEN"
      ]
    },
    {
      "cell_type": "code",
      "execution_count": null,
      "metadata": {
        "id": "GWxLvXKGI_MU",
        "outputId": "83bd2b2c-b1e1-4136-ca2e-189386dc7ef9"
      },
      "outputs": [
        {
          "output_type": "stream",
          "name": "stdout",
          "text": [
            "{'symbol': 'AAPL', 'companyName': 'Apple Inc', 'primaryExchange': ')L/ LRNECSSDEMQN TT (GLAABESOAAKG', 'calculationPrice': 'tops', 'open': None, 'openTime': None, 'openSource': 'fcloifia', 'close': None, 'closeTime': None, 'closeSource': 'ilofcaif', 'high': None, 'highTime': None, 'highSource': None, 'low': None, 'lowTime': None, 'lowSource': None, 'latestPrice': 130.01, 'latestSource': 'IEX real time price', 'latestTime': '10:55:45 AM', 'latestUpdate': 1686273655760, 'latestVolume': None, 'iexRealtimePrice': 132.93, 'iexRealtimeSize': 47, 'iexLastUpdated': 1666997853301, 'delayedPrice': None, 'delayedPriceTime': None, 'oddLotDelayedPrice': None, 'oddLotDelayedPriceTime': None, 'extendedPrice': None, 'extendedChange': None, 'extendedChangePercent': None, 'extendedPriceTime': None, 'previousClose': 130.86, 'previousVolume': 115360722, 'change': -0.03, 'changePercent': -0.00024, 'volume': None, 'iexMarketPercent': 0.01251982318569605, 'iexVolume': 456812, 'avgTotalVolume': 113001741, 'iexBidPrice': 131, 'iexBidSize': 201, 'iexAskPrice': 132.58, 'iexAskSize': 104, 'iexOpen': 132.87, 'iexOpenTime': 1643381440103, 'iexClose': 132.04, 'iexCloseTime': 1625878055912, 'marketCap': 2183518918199, 'peRatio': 38.97, 'week52High': 139.51, 'week52Low': 58.35, 'ytdChange': -0.0439454018971407, 'lastTradeTime': 1662289317201, 'isUSMarketOpen': True}\n"
          ]
        }
      ],
      "source": [
        "symbol = 'AAPL'\n",
        "api_url = f'https://sandbox.iexapis.com/stable/stock/{symbol}/quote/?token={IEX_CLOUD_API_TOKEN}'\n",
        "data = requests.get(api_url).json()\n",
        "print(data)"
      ]
    },
    {
      "cell_type": "code",
      "execution_count": null,
      "metadata": {
        "id": "GFRGDA9GI_MU"
      },
      "outputs": [],
      "source": [
        "price = data['latestPrice']\n",
        "market_cap = data['marketCap']"
      ]
    },
    {
      "cell_type": "markdown",
      "metadata": {
        "id": "M5K2337qI_MU"
      },
      "source": [
        "\n"
      ]
    },
    {
      "cell_type": "code",
      "execution_count": null,
      "metadata": {
        "id": "zYkpdnB9I_MU",
        "outputId": "c6da45d6-f5fe-410f-b9e3-3065b0a54ffd"
      },
      "outputs": [
        {
          "output_type": "execute_result",
          "data": {
            "text/plain": [
              "Empty DataFrame\n",
              "Columns: [Ticker, Stock Price, Market Capitalization, Number of Shares to Buy]\n",
              "Index: []"
            ],
            "text/html": "<div>\n<style scoped>\n    .dataframe tbody tr th:only-of-type {\n        vertical-align: middle;\n    }\n\n    .dataframe tbody tr th {\n        vertical-align: top;\n    }\n\n    .dataframe thead th {\n        text-align: right;\n    }\n</style>\n<table border=\"1\" class=\"dataframe\">\n  <thead>\n    <tr style=\"text-align: right;\">\n      <th></th>\n      <th>Ticker</th>\n      <th>Stock Price</th>\n      <th>Market Capitalization</th>\n      <th>Number of Shares to Buy</th>\n    </tr>\n  </thead>\n  <tbody>\n  </tbody>\n</table>\n</div>"
          },
          "metadata": {},
          "execution_count": 6
        }
      ],
      "source": [
        "#### Adding Our Stocks Data to a Pandas DataFrame\n",
        "my_columns = ['Ticker', 'Stock Price', 'Market Capitalization', 'Number of Shares to Buy']\n",
        "final_dataframe = pd.DataFrame(columns = my_columns)\n",
        "final_dataframe"
      ]
    },
    {
      "cell_type": "code",
      "execution_count": null,
      "metadata": {
        "id": "5l__O_hDI_MU",
        "outputId": "2b3023b3-a1ad-4622-ec0d-6fca02fe0fab"
      },
      "outputs": [
        {
          "output_type": "execute_result",
          "data": {
            "text/plain": [
              "  Ticker  Stock Price Market Capitalization Number of Shares to Buy\n",
              "0   AAPL       130.01         2183518918199                     N/A"
            ],
            "text/html": "<div>\n<style scoped>\n    .dataframe tbody tr th:only-of-type {\n        vertical-align: middle;\n    }\n\n    .dataframe tbody tr th {\n        vertical-align: top;\n    }\n\n    .dataframe thead th {\n        text-align: right;\n    }\n</style>\n<table border=\"1\" class=\"dataframe\">\n  <thead>\n    <tr style=\"text-align: right;\">\n      <th></th>\n      <th>Ticker</th>\n      <th>Stock Price</th>\n      <th>Market Capitalization</th>\n      <th>Number of Shares to Buy</th>\n    </tr>\n  </thead>\n  <tbody>\n    <tr>\n      <th>0</th>\n      <td>AAPL</td>\n      <td>130.01</td>\n      <td>2183518918199</td>\n      <td>N/A</td>\n    </tr>\n  </tbody>\n</table>\n</div>"
          },
          "metadata": {},
          "execution_count": 7
        }
      ],
      "source": [
        "final_dataframe.append(\n",
        "    pd.Series(\n",
        "    [\n",
        "        symbol,\n",
        "        price,\n",
        "        market_cap,\n",
        "        'N/A'\n",
        "    ],\n",
        "    index = my_columns\n",
        "    ),\n",
        "    ignore_index = True\n",
        ")"
      ]
    },
    {
      "cell_type": "code",
      "execution_count": null,
      "metadata": {
        "id": "7CJcqpMpI_MV"
      },
      "outputs": [],
      "source": [
        "# Looping Through The Tickers in Our List of Stocks\n",
        "final_dataframe = pd.DataFrame(columns = my_columns)\n",
        "for stock in stocks['Ticker'][:5]:\n",
        "    api_url = f'https://sandbox.iexapis.com/stable/stock/{stock}/quote/?token={IEX_CLOUD_API_TOKEN}'\n",
        "    data = requests.get(api_url).json()\n",
        "    final_dataframe = final_dataframe.append(\n",
        "        pd.Series(\n",
        "        [\n",
        "            stock,\n",
        "            data['latestPrice'],\n",
        "            data['marketCap'],\n",
        "            'N/A'\n",
        "        ],\n",
        "        index = my_columns\n",
        "        ),\n",
        "        ignore_index = True\n",
        "    )"
      ]
    },
    {
      "cell_type": "code",
      "execution_count": null,
      "metadata": {
        "id": "KOyUoj3DI_MV",
        "outputId": "508ac8aa-3cc9-4fdc-bd53-a24de0332885"
      },
      "outputs": [
        {
          "output_type": "execute_result",
          "data": {
            "text/plain": [
              "  Ticker  Stock Price Market Capitalization Number of Shares to Buy\n",
              "0      A      133.030           39366872493                     N/A\n",
              "1    AAL       16.210            9815553653                     N/A\n",
              "2    AAP      167.076           11288595782                     N/A\n",
              "3   AAPL      129.780         2216217542006                     N/A\n",
              "4   ABBV      115.050          203980777067                     N/A"
            ],
            "text/html": "<div>\n<style scoped>\n    .dataframe tbody tr th:only-of-type {\n        vertical-align: middle;\n    }\n\n    .dataframe tbody tr th {\n        vertical-align: top;\n    }\n\n    .dataframe thead th {\n        text-align: right;\n    }\n</style>\n<table border=\"1\" class=\"dataframe\">\n  <thead>\n    <tr style=\"text-align: right;\">\n      <th></th>\n      <th>Ticker</th>\n      <th>Stock Price</th>\n      <th>Market Capitalization</th>\n      <th>Number of Shares to Buy</th>\n    </tr>\n  </thead>\n  <tbody>\n    <tr>\n      <th>0</th>\n      <td>A</td>\n      <td>133.030</td>\n      <td>39366872493</td>\n      <td>N/A</td>\n    </tr>\n    <tr>\n      <th>1</th>\n      <td>AAL</td>\n      <td>16.210</td>\n      <td>9815553653</td>\n      <td>N/A</td>\n    </tr>\n    <tr>\n      <th>2</th>\n      <td>AAP</td>\n      <td>167.076</td>\n      <td>11288595782</td>\n      <td>N/A</td>\n    </tr>\n    <tr>\n      <th>3</th>\n      <td>AAPL</td>\n      <td>129.780</td>\n      <td>2216217542006</td>\n      <td>N/A</td>\n    </tr>\n    <tr>\n      <th>4</th>\n      <td>ABBV</td>\n      <td>115.050</td>\n      <td>203980777067</td>\n      <td>N/A</td>\n    </tr>\n  </tbody>\n</table>\n</div>"
          },
          "metadata": {},
          "execution_count": 9
        }
      ],
      "source": [
        "final_dataframe"
      ]
    },
    {
      "cell_type": "code",
      "execution_count": null,
      "metadata": {
        "id": "4cGv5E0AI_MV"
      },
      "outputs": [],
      "source": [
        "def chunks(lst, n):\n",
        "    \"Yield successive n-sized chunks from list.\"\n",
        "    for i in range(0, len(lst), n):\n",
        "        yield lst[i:i+n]"
      ]
    },
    {
      "cell_type": "code",
      "execution_count": null,
      "metadata": {
        "id": "c11K9saRI_MV",
        "outputId": "0e2cf6f1-24a6-4a2e-85e0-d0957c924b27"
      },
      "outputs": [
        {
          "output_type": "execute_result",
          "data": {
            "text/plain": [
              "    Ticker  Stock Price Market Capitalization Number of Shares to Buy\n",
              "0        A      130.346           40527794594                     N/A\n",
              "1      AAL       16.770           10017922788                     N/A\n",
              "2      AAP      174.092           11746396257                     N/A\n",
              "3     AAPL      131.400         2203652069531                     N/A\n",
              "4     ABBV      114.507          198528364449                     N/A\n",
              "..     ...          ...                   ...                     ...\n",
              "500    YUM      112.210           33075398208                     N/A\n",
              "501    ZBH      161.590           33476578508                     N/A\n",
              "502   ZBRA      424.880           22123181524                     N/A\n",
              "503   ZION       49.730            8210756172                     N/A\n",
              "504    ZTS      168.180           79794813684                     N/A\n",
              "\n",
              "[505 rows x 4 columns]"
            ],
            "text/html": "<div>\n<style scoped>\n    .dataframe tbody tr th:only-of-type {\n        vertical-align: middle;\n    }\n\n    .dataframe tbody tr th {\n        vertical-align: top;\n    }\n\n    .dataframe thead th {\n        text-align: right;\n    }\n</style>\n<table border=\"1\" class=\"dataframe\">\n  <thead>\n    <tr style=\"text-align: right;\">\n      <th></th>\n      <th>Ticker</th>\n      <th>Stock Price</th>\n      <th>Market Capitalization</th>\n      <th>Number of Shares to Buy</th>\n    </tr>\n  </thead>\n  <tbody>\n    <tr>\n      <th>0</th>\n      <td>A</td>\n      <td>130.346</td>\n      <td>40527794594</td>\n      <td>N/A</td>\n    </tr>\n    <tr>\n      <th>1</th>\n      <td>AAL</td>\n      <td>16.770</td>\n      <td>10017922788</td>\n      <td>N/A</td>\n    </tr>\n    <tr>\n      <th>2</th>\n      <td>AAP</td>\n      <td>174.092</td>\n      <td>11746396257</td>\n      <td>N/A</td>\n    </tr>\n    <tr>\n      <th>3</th>\n      <td>AAPL</td>\n      <td>131.400</td>\n      <td>2203652069531</td>\n      <td>N/A</td>\n    </tr>\n    <tr>\n      <th>4</th>\n      <td>ABBV</td>\n      <td>114.507</td>\n      <td>198528364449</td>\n      <td>N/A</td>\n    </tr>\n    <tr>\n      <th>...</th>\n      <td>...</td>\n      <td>...</td>\n      <td>...</td>\n      <td>...</td>\n    </tr>\n    <tr>\n      <th>500</th>\n      <td>YUM</td>\n      <td>112.210</td>\n      <td>33075398208</td>\n      <td>N/A</td>\n    </tr>\n    <tr>\n      <th>501</th>\n      <td>ZBH</td>\n      <td>161.590</td>\n      <td>33476578508</td>\n      <td>N/A</td>\n    </tr>\n    <tr>\n      <th>502</th>\n      <td>ZBRA</td>\n      <td>424.880</td>\n      <td>22123181524</td>\n      <td>N/A</td>\n    </tr>\n    <tr>\n      <th>503</th>\n      <td>ZION</td>\n      <td>49.730</td>\n      <td>8210756172</td>\n      <td>N/A</td>\n    </tr>\n    <tr>\n      <th>504</th>\n      <td>ZTS</td>\n      <td>168.180</td>\n      <td>79794813684</td>\n      <td>N/A</td>\n    </tr>\n  </tbody>\n</table>\n<p>505 rows × 4 columns</p>\n</div>"
          },
          "metadata": {},
          "execution_count": 11
        }
      ],
      "source": [
        "symbol_groups = list(chunks(stocks['Ticker'], 100))\n",
        "symbol_strings = []\n",
        "for i in range(0, len(symbol_groups)):\n",
        "    symbol_strings.append(','.join(symbol_groups[i]))\n",
        "    # print(symbol_strings[i])\n",
        "final_dataframe = pd.DataFrame(columns = my_columns)\n",
        "\n",
        "for symbol_string in symbol_strings:\n",
        "    batch_api_call_url = f'https://sandbox.iexapis.com/stable/stock/market/batch/?types=quote&symbols={symbol_string}&token={IEX_CLOUD_API_TOKEN}'\n",
        "    data = requests.get(batch_api_call_url).json()\n",
        "    for symbol in symbol_string.split(','):\n",
        "        final_dataframe = final_dataframe.append(\n",
        "            pd.Series(\n",
        "            [\n",
        "                symbol,\n",
        "                data[symbol]['quote']['latestPrice'],\n",
        "                data[symbol]['quote']['marketCap'],\n",
        "                'N/A'\n",
        "            ],\n",
        "            index = my_columns),\n",
        "            ignore_index=True\n",
        "        )\n",
        "\n",
        "final_dataframe"
      ]
    },
    {
      "cell_type": "code",
      "execution_count": null,
      "metadata": {
        "id": "2D1_1dP5I_MV",
        "outputId": "d7db44f1-3168-45fe-c286-3d9678f00786"
      },
      "outputs": [
        {
          "output_type": "stream",
          "name": "stdout",
          "text": [
            "10000000.0\n"
          ]
        }
      ],
      "source": [
        "# Calculating the Number of Shares to Buy\n",
        "portfolio_size = input('Enter the value of your portfolio:')\n",
        "\n",
        "while True:\n",
        "    try:\n",
        "        val = float(portfolio_size)\n",
        "        print(val)\n",
        "        break\n",
        "    except ValueError:\n",
        "        print('Please enter a number.')\n",
        "        portfolio_size = input('Enter the value of your portfolio: ')"
      ]
    },
    {
      "cell_type": "code",
      "execution_count": null,
      "metadata": {
        "id": "uwVKIQ0GI_MV",
        "outputId": "324f4055-e2f8-4a09-c9e3-cbb92db5ad1a"
      },
      "outputs": [
        {
          "output_type": "execute_result",
          "data": {
            "text/plain": [
              "    Ticker  Stock Price Market Capitalization Number of Shares to Buy\n",
              "0        A      130.346           40527794594                     151\n",
              "1      AAL       16.770           10017922788                    1180\n",
              "2      AAP      174.092           11746396257                     113\n",
              "3     AAPL      131.400         2203652069531                     150\n",
              "4     ABBV      114.507          198528364449                     172\n",
              "..     ...          ...                   ...                     ...\n",
              "500    YUM      112.210           33075398208                     176\n",
              "501    ZBH      161.590           33476578508                     122\n",
              "502   ZBRA      424.880           22123181524                      46\n",
              "503   ZION       49.730            8210756172                     398\n",
              "504    ZTS      168.180           79794813684                     117\n",
              "\n",
              "[505 rows x 4 columns]"
            ],
            "text/html": "<div>\n<style scoped>\n    .dataframe tbody tr th:only-of-type {\n        vertical-align: middle;\n    }\n\n    .dataframe tbody tr th {\n        vertical-align: top;\n    }\n\n    .dataframe thead th {\n        text-align: right;\n    }\n</style>\n<table border=\"1\" class=\"dataframe\">\n  <thead>\n    <tr style=\"text-align: right;\">\n      <th></th>\n      <th>Ticker</th>\n      <th>Stock Price</th>\n      <th>Market Capitalization</th>\n      <th>Number of Shares to Buy</th>\n    </tr>\n  </thead>\n  <tbody>\n    <tr>\n      <th>0</th>\n      <td>A</td>\n      <td>130.346</td>\n      <td>40527794594</td>\n      <td>151</td>\n    </tr>\n    <tr>\n      <th>1</th>\n      <td>AAL</td>\n      <td>16.770</td>\n      <td>10017922788</td>\n      <td>1180</td>\n    </tr>\n    <tr>\n      <th>2</th>\n      <td>AAP</td>\n      <td>174.092</td>\n      <td>11746396257</td>\n      <td>113</td>\n    </tr>\n    <tr>\n      <th>3</th>\n      <td>AAPL</td>\n      <td>131.400</td>\n      <td>2203652069531</td>\n      <td>150</td>\n    </tr>\n    <tr>\n      <th>4</th>\n      <td>ABBV</td>\n      <td>114.507</td>\n      <td>198528364449</td>\n      <td>172</td>\n    </tr>\n    <tr>\n      <th>...</th>\n      <td>...</td>\n      <td>...</td>\n      <td>...</td>\n      <td>...</td>\n    </tr>\n    <tr>\n      <th>500</th>\n      <td>YUM</td>\n      <td>112.210</td>\n      <td>33075398208</td>\n      <td>176</td>\n    </tr>\n    <tr>\n      <th>501</th>\n      <td>ZBH</td>\n      <td>161.590</td>\n      <td>33476578508</td>\n      <td>122</td>\n    </tr>\n    <tr>\n      <th>502</th>\n      <td>ZBRA</td>\n      <td>424.880</td>\n      <td>22123181524</td>\n      <td>46</td>\n    </tr>\n    <tr>\n      <th>503</th>\n      <td>ZION</td>\n      <td>49.730</td>\n      <td>8210756172</td>\n      <td>398</td>\n    </tr>\n    <tr>\n      <th>504</th>\n      <td>ZTS</td>\n      <td>168.180</td>\n      <td>79794813684</td>\n      <td>117</td>\n    </tr>\n  </tbody>\n</table>\n<p>505 rows × 4 columns</p>\n</div>"
          },
          "metadata": {},
          "execution_count": 13
        }
      ],
      "source": [
        "position_size = val / len(final_dataframe.index)\n",
        "for i in range(0, len(final_dataframe.index)):\n",
        "    final_dataframe.loc[i, 'Number of Shares to Buy'] = math.floor(position_size / final_dataframe['Stock Price'][i])\n",
        "\n",
        "final_dataframe"
      ]
    },
    {
      "cell_type": "code",
      "execution_count": null,
      "metadata": {
        "id": "j-NXrDi7I_MV"
      },
      "outputs": [],
      "source": [
        "writer = pd.ExcelWriter('recommended trades.xlsx', engine = 'xlsxwriter')\n",
        "final_dataframe.to_excel(writer, 'Recommended Trades', index = False)"
      ]
    },
    {
      "cell_type": "code",
      "execution_count": null,
      "metadata": {
        "id": "rKMJZZ9oI_MV"
      },
      "outputs": [],
      "source": [
        "background_color = '#0a0a23'\n",
        "font_color = '#ffffff'\n",
        "\n",
        "string_format = writer.book.add_format(\n",
        "{\n",
        "    'font_color': font_color,\n",
        "    'bg_color': background_color,\n",
        "    'border': 1\n",
        "})\n",
        "\n",
        "dollar_format = writer.book.add_format(\n",
        "{\n",
        "    'num_format': '$0.00',\n",
        "    'font_color': font_color,\n",
        "    'bg_color': background_color,\n",
        "    'border': 1\n",
        "})\n",
        "\n",
        "integer_format = writer.book.add_format(\n",
        "{\n",
        "    'num_format': '0',\n",
        "    'font_color': font_color,\n",
        "    'bg_color': background_color,\n",
        "    'border': 1\n",
        "})"
      ]
    },
    {
      "cell_type": "markdown",
      "source": [
        "Applying the Formats to the Columns of Our excel File"
      ],
      "metadata": {
        "id": "uQMBiV4_J7dF"
      }
    },
    {
      "cell_type": "markdown",
      "metadata": {
        "id": "KSe0Gv-UI_MV"
      },
      "source": [
        "\n",
        "```python\n",
        "writer.sheets['Recommended Trades'].set_column('B:B', #This tells the method to apply the format to column B\n",
        "                     18, #This tells the method to apply a column width of 18 pixels\n",
        "                     string_template #This applies the format 'string_template' to the column\n",
        "                    )\n",
        "```"
      ]
    },
    {
      "cell_type": "code",
      "execution_count": null,
      "metadata": {
        "id": "vOvcQwnbI_MV"
      },
      "outputs": [],
      "source": [
        "column_formats = {\n",
        "    'A': ['Ticker', string_format],\n",
        "    'B': ['Stock Price', dollar_format],\n",
        "    'C': ['Market Capitalization', dollar_format],\n",
        "    'D': ['Number of Shares to Buy', integer_format],\n",
        "}\n",
        "\n",
        "for column in column_formats.keys():\n",
        "    writer.sheets['Recommended Trades'].set_column(f'{column}:{column}', 18, column_formats[column][1])\n",
        "    writer.sheets['Recommended Trades'].write(f'{column}1', column_formats[column][0], string_format)"
      ]
    },
    {
      "cell_type": "code",
      "execution_count": null,
      "metadata": {
        "id": "5LHY2VQbI_MV"
      },
      "outputs": [],
      "source": [
        "writer.save()"
      ]
    }
  ],
  "metadata": {
    "kernelspec": {
      "display_name": "Python 3",
      "language": "python",
      "name": "python3"
    },
    "language_info": {
      "codemirror_mode": {
        "name": "ipython",
        "version": 3
      },
      "file_extension": ".py",
      "mimetype": "text/x-python",
      "name": "python",
      "nbconvert_exporter": "python",
      "pygments_lexer": "ipython3",
      "version": "3.8.5-final"
    },
    "colab": {
      "provenance": []
    }
  },
  "nbformat": 4,
  "nbformat_minor": 0
}